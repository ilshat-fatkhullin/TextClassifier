{
 "cells": [
  {
   "cell_type": "code",
   "execution_count": 11,
   "metadata": {
    "collapsed": true
   },
   "outputs": [],
   "source": [
    "import pandas as pd"
   ]
  },
  {
   "cell_type": "code",
   "execution_count": 12,
   "metadata": {
    "collapsed": false
   },
   "outputs": [],
   "source": [
    "Sentences = pd.DataFrame.from_csv(\"../Data/sentences.csv\")\n",
    "Sentences = Sentences.reset_index()"
   ]
  },
  {
   "cell_type": "code",
   "execution_count": 63,
   "metadata": {
    "collapsed": true
   },
   "outputs": [],
   "source": [
    "def DeletePunctuation(Sentence):\n",
    "    Sentence = Sentence.replace(\",\", \" \")\n",
    "    Sentence = Sentence.replace(\";\", \" \")\n",
    "    Sentence = Sentence.replace(\"(\", \" \")\n",
    "    Sentence = Sentence.replace(\")\", \" \")\n",
    "    Sentence = Sentence.replace(\"{\", \" \")\n",
    "    Sentence = Sentence.replace(\"?\", \" \")\n",
    "    Sentence = Sentence.replace(\".\", \" \")\n",
    "    Sentence = Sentence.replace(\"!\", \" \")\n",
    "    Sentence = Sentence.replace(\"}\", \" \")\n",
    "    Sentence = Sentence.replace(\"\\\"\", \" \")\n",
    "    Sentence = Sentence.replace(\"'\", \" \")\n",
    "    Sentence = Sentence.replace(\"=\", \" \")\n",
    "    Sentence = Sentence.replace(\"+\", \" \")\n",
    "    Sentence = Sentence.replace(\"–\", \" \")\n",
    "    Sentence = Sentence.replace(\"»\", \" \")\n",
    "    Sentence = Sentence.replace(\"«\", \" \")\n",
    "    Sentence = Sentence.replace(\":\", \" \")\n",
    "    Sentence = Sentence.replace(\"…\", \" \")\n",
    "    Sentence = Sentence.replace(\"...\", \" \")\n",
    "    return Sentence"
   ]
  },
  {
   "cell_type": "code",
   "execution_count": 77,
   "metadata": {
    "collapsed": false
   },
   "outputs": [],
   "source": [
    "def DeleteArticles(Array):\n",
    "    Articles = [\"без\", \"безо\", \"аль\", \"бы\", \"же\", \"но\", \"не\", \"то\", \"так\", \"а\", \"ах\",\"близ\", \"в\", \"во\", \"вместо\", \"вне\", \"для\", \"до\", \"за\", \"из\", \"изо\", \"из-за\", \"из-под\", \"к\", \"ко\", \"кроме\", \"между\", \"меж\", \"на\", \"над\", \"надо\", \"о\", \"об\", \"обо\", \"от\", \"ото\", \"перед\", \"передо\", \"пo\", \"под\", \"при\", \"про\", \"ради\", \"с\", \"со\", \"сквозь\", \"среди\", \"у\", \"через\", \"чрез\", \"что\", \"и\"]\n",
    "    for aritcle in Articles:\n",
    "        Result = []\n",
    "        for element in Array:\n",
    "            if element not in Articles:\n",
    "                Result.append(element)\n",
    "    return Result"
   ]
  },
  {
   "cell_type": "code",
   "execution_count": 78,
   "metadata": {
    "collapsed": true
   },
   "outputs": [],
   "source": [
    "def DeleteNumbers(Array):\n",
    "    Result = []\n",
    "    for element in Array:\n",
    "        if element.isdigit() is False:\n",
    "            Result.append(element)\n",
    "    return Result"
   ]
  },
  {
   "cell_type": "code",
   "execution_count": 79,
   "metadata": {
    "collapsed": true
   },
   "outputs": [],
   "source": [
    "def CountArticles(Sentence):\n",
    "    Result = {\"!\": 0, \"?\": 0, \".\":0}\n",
    "    Result[\"!\"] = Sentence.count(\"!\")\n",
    "    Result[\".\"] = Sentence.count(\".\")\n",
    "    Result[\"?\"] = Sentence.count(\"?\")\n",
    "    return Result"
   ]
  },
  {
   "cell_type": "code",
   "execution_count": 82,
   "metadata": {
    "collapsed": false
   },
   "outputs": [],
   "source": [
    "def ParseSentence(Sentence):\n",
    "    Sentence = Sentence.lower()\n",
    "    Articles = CountArticles(Sentence)\n",
    "    Sentence = DeletePunctuation(Sentence)\n",
    "    Sentence = Sentence.split()\n",
    "    Sentence = DeleteArticles(Sentence)\n",
    "    Sentence = DeleteNumbers(Sentence)\n",
    "    Sentence.append(Articles)\n",
    "    return Sentence"
   ]
  },
  {
   "cell_type": "code",
   "execution_count": 81,
   "metadata": {
    "collapsed": false
   },
   "outputs": [
    {
     "data": {
      "text/plain": [
       "0              [﻿, ты, приходи, {'?': 0, '!': 1, '.': 0}]\n",
       "1       [третий, раз, попросил, сениста, третий, раз, ...\n",
       "2       [еще, прийти, конечно, прийду, {'?': 0, '!': 0...\n",
       "3       [снова, они, замолчали, {'?': 0, '!': 0, '.': 1}]\n",
       "4       [сениста, лежал, спине, подбородка, укрытый, с...\n",
       "5       [сазонке, хотелось, уйти, он, знал, как, это, ...\n",
       "6       [он, еще, посидел, если, было, чем, говорить, ...\n",
       "7       [его, все, время, тянуло, называть, сенисту, п...\n",
       "8       [еще, двух, недель, прошло, тех, пор, как, он,...\n",
       "9       [сазонка, решительно, начал, сползать, стула, ...\n",
       "10                      [болит, {'?': 1, '!': 0, '.': 0}]\n",
       "11      [сениста, утвердительно, качнул, головой, тихо...\n",
       "12         [он, бранить, будет, {'?': 0, '!': 0, '.': 1}]\n",
       "13      [это, верно, обрадовался, сазонка, предлогу, {...\n",
       "14      [он, приказывал, ты, говорит, поскорее, {'?': ...\n",
       "15      [отвезешь, минутой, назад, {'?': 0, '!': 0, '....\n",
       "16        [чтобы, водки, ни-ни, {'?': 0, '!': 0, '.': 1}]\n",
       "17                  [вот, черт, {'?': 0, '!': 1, '.': 0}]\n",
       "18      [вместе, сознанием, он, может, теперь, уйти, к...\n",
       "19      [жалости, призывала, вся, необычная, обстановк...\n",
       "20      [уже, избегая, просительного, взгляда, сазонка...\n",
       "21                      [приду, {'?': 0, '!': 0, '.': 1}]\n",
       "22      [как, ослобонюсь, тебе, {'?': 0, '!': 0, '.': 1}]\n",
       "23            [разве, мы, люди, {'?': 1, '!': 0, '.': 0}]\n",
       "24                    [господи, {'?': 0, '!': 1, '.': 0}]\n",
       "25      [тоже, нас, понятие, есть, {'?': 0, '!': 0, '....\n",
       "26                      [милый, {'?': 0, '!': 1, '.': 0}]\n",
       "27           [веришь, мне, нет, {'?': 1, '!': 0, '.': 0}]\n",
       "28      [улыбкой, почерневших, запекшихся, губах, сени...\n",
       "29                        [вот, {'?': 0, '!': 1, '.': 0}]\n",
       "                              ...                        \n",
       "2967    [﻿утром, белел, лужах, сквозной, ледок, теперь...\n",
       "2968    [ветер, вскрышной, тугой, сыровато-теплый, {'?...\n",
       "2969    [потянет, рванет, порой, бойкий, весенний, вет...\n",
       "2970    [прислушаешься, шумит-смеется, {'?': 0, '!': 1...\n",
       "2971    [небо, ветре, густое-голубое, золотистыми, пру...\n",
       "2972          [тепло, свежесть, {'?': 0, '!': 0, '.': 1}]\n",
       "2973    [свежести, этой, струйки, тающего, снега, поте...\n",
       "2974    [голубями, как, будто, пахнет, томною, воркотн...\n",
       "2975    [весна, она, засматривает, глаза, разрумяненны...\n",
       "2976    [все, ты, федя, съел, медведя, сегодня, совсем...\n",
       "2977    [сияющие, новые, калоши, кремовый, шелковистый...\n",
       "2978    [шарфик, делает, его, очень, интересным, {'?':...\n",
       "2979    [новеньком, портмоне, рубль, восемьдесят, пять...\n",
       "2980    [самое, главное, ровно, по, спасской, башне, в...\n",
       "2981       [дивное, какое, имя, {'?': 0, '!': 1, '.': 2}]\n",
       "2982    [женщины, гораздо, находчивее, мужчин, взволно...\n",
       "2983    [федя, толпе, его, оглушает, гоготом, писком, ...\n",
       "2984    [сверкает, плещет, ветре, пестрит, колет, бума...\n",
       "2985    [кружит, глаза, уши, летающими, колбасами, виз...\n",
       "2986    [глазеют-пучатся, веселые, купола, его, сияют,...\n",
       "2987    [связки, шаров, веселых, вытягиваются, нему, п...\n",
       "2988    [строгие, купола, соборов, зубчатых, кремлевск...\n",
       "2989    [взглядывают, них, торга, вспоминают, пасха, д...\n",
       "2990    [спасская, выбивает, переливом, третью, четвер...\n",
       "2991    [пора, вербам, спохватывается, федя, него, зам...\n",
       "2992    [он, представляет, себе, тоненькую, фигуру, ни...\n",
       "2993    [он, видит, даже, как, встряхивает, она, голов...\n",
       "2994    [пышные, небывающие, розы, протягивают, ему, б...\n",
       "2995    [колышащиеся, связки, шаров, гибко, выгибаются...\n",
       "2996    [животрепя-щие, бабочки, {'?': 0, '!': 1, '.':...\n",
       "Name: Предложение, dtype: object"
      ]
     },
     "execution_count": 81,
     "metadata": {},
     "output_type": "execute_result"
    }
   ],
   "source": [
    "Sentences[\"Предложение\"].apply(ParseSentence)"
   ]
  },
  {
   "cell_type": "code",
   "execution_count": null,
   "metadata": {
    "collapsed": true
   },
   "outputs": [],
   "source": []
  }
 ],
 "metadata": {
  "anaconda-cloud": {},
  "kernelspec": {
   "display_name": "Python [conda root]",
   "language": "python",
   "name": "conda-root-py"
  },
  "language_info": {
   "codemirror_mode": {
    "name": "ipython",
    "version": 3
   },
   "file_extension": ".py",
   "mimetype": "text/x-python",
   "name": "python",
   "nbconvert_exporter": "python",
   "pygments_lexer": "ipython3",
   "version": "3.5.2"
  }
 },
 "nbformat": 4,
 "nbformat_minor": 1
}
