{
 "cells": [
  {
   "cell_type": "code",
   "execution_count": 9,
   "metadata": {
    "collapsed": true
   },
   "outputs": [],
   "source": [
    "import pandas as pd\n",
    "import numpy as np\n",
    "from os import chdir"
   ]
  },
  {
   "cell_type": "code",
   "execution_count": 3,
   "metadata": {
    "collapsed": true
   },
   "outputs": [],
   "source": [
    "chdir(\"../Packages/\") \n",
    "import pymorphy2\n",
    "import pymorphy2_dicts"
   ]
  },
  {
   "cell_type": "code",
   "execution_count": 4,
   "metadata": {
    "collapsed": true
   },
   "outputs": [],
   "source": [
    "chdir(\"../Compile\")\n",
    "import Data_filter as DF\n",
    "import Analyzier"
   ]
  },
  {
   "cell_type": "code",
   "execution_count": 5,
   "metadata": {
    "collapsed": true
   },
   "outputs": [],
   "source": [
    "TrainingData = pd.DataFrame.from_csv(\"../../Data/training_data.csv\")"
   ]
  },
  {
   "cell_type": "code",
   "execution_count": 6,
   "metadata": {
    "collapsed": true
   },
   "outputs": [],
   "source": [
    "Data = TrainingData['sentence'].apply(DF.ParseSentence)\n",
    "Data = Data.to_frame()"
   ]
  },
  {
   "cell_type": "code",
   "execution_count": 7,
   "metadata": {
    "collapsed": true
   },
   "outputs": [],
   "source": [
    "Data['sentence'] = Data['sentence'].apply(lambda x: x[0])\n",
    "Data['label'] = TrainingData['label'].apply(lambda x: DF.ParseLabel(x))"
   ]
  },
  {
   "cell_type": "code",
   "execution_count": 16,
   "metadata": {
    "collapsed": false
   },
   "outputs": [],
   "source": [
    "Neutral = Data[Data['label'] == 0].count()\n",
    "Positive = Data[Data['label'] == 1].count()\n",
    "Negative = Data[Data['label'] == -1].count()"
   ]
  },
  {
   "cell_type": "code",
   "execution_count": 17,
   "metadata": {
    "collapsed": true
   },
   "outputs": [],
   "source": [
    "Bigrams = {}\n",
    "for row in Data.values:\n",
    "    for num in range(len(row[0])):\n",
    "        if num == len(row[0])-1:\n",
    "            break\n",
    "        else:\n",
    "            for i in range(num+1, len(row[0])):\n",
    "                Bigrams[row[0][num]+\"#\"+row[0][i]] = {\"positive\": 0, \"negative\":0 , \"neutral\": 0}\n",
    "                Bigrams[row[0][i]+\"#\"+row[0][num]] = {\"positive\": 0, \"negative\":0 , \"neutral\": 0}\n",
    "for row in Data.values:\n",
    "    for num in range(len(row[0])):\n",
    "        if num == len(row[0])-1:\n",
    "            break\n",
    "        else:\n",
    "            row[0] = list(set(row[0]))\n",
    "            for i in range(num+1, len(row[0])):\n",
    "                if row[1] == -1:\n",
    "                    Bigrams[row[0][num]+\"#\"+row[0][i]][\"negative\"] += 1\n",
    "                    Bigrams[row[0][i]+\"#\"+row[0][num]][\"negative\"] += 1\n",
    "                elif row[1] == 1:\n",
    "                    Bigrams[row[0][num]+\"#\"+row[0][i]][\"positive\"] += 1\n",
    "                    Bigrams[row[0][i]+\"#\"+row[0][num]][\"positive\"] += 1\n",
    "                else:\n",
    "                    Bigrams[row[0][num]+\"#\"+row[0][i]][\"neutral\"] += 1\n",
    "                    Bigrams[row[0][i]+\"#\"+row[0][num]][\"neutral\"] += 1"
   ]
  },
  {
   "cell_type": "code",
   "execution_count": 18,
   "metadata": {
    "collapsed": true
   },
   "outputs": [],
   "source": [
    "Temp = pd.DataFrame.from_dict(Bigrams,orient='index')"
   ]
  },
  {
   "cell_type": "code",
   "execution_count": 20,
   "metadata": {
    "collapsed": false
   },
   "outputs": [],
   "source": [
    "Temp['negative'] = Temp['negative'].apply(lambda x: x/Negative)\n",
    "Temp['positive'] = Temp['positive'].apply(lambda x: x/Positive)\n",
    "Temp['neutral'] = Temp['neutral'].apply(lambda x: x/Neutral)"
   ]
  },
  {
   "cell_type": "code",
   "execution_count": 25,
   "metadata": {
    "collapsed": false
   },
   "outputs": [],
   "source": [
    "Temp.sort_values(\"negative\", ascending=False).reset_index().to_csv(\"../../Data/bigrams.csv\")"
   ]
  },
  {
   "cell_type": "code",
   "execution_count": null,
   "metadata": {
    "collapsed": true
   },
   "outputs": [],
   "source": []
  }
 ],
 "metadata": {
  "anaconda-cloud": {},
  "kernelspec": {
   "display_name": "Python [conda root]",
   "language": "python",
   "name": "conda-root-py"
  },
  "language_info": {
   "codemirror_mode": {
    "name": "ipython",
    "version": 3
   },
   "file_extension": ".py",
   "mimetype": "text/x-python",
   "name": "python",
   "nbconvert_exporter": "python",
   "pygments_lexer": "ipython3",
   "version": "3.5.2"
  }
 },
 "nbformat": 4,
 "nbformat_minor": 1
}
