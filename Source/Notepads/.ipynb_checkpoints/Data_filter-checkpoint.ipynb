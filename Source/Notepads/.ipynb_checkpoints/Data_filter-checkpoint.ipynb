{
 "cells": [
  {
   "cell_type": "code",
   "execution_count": 1,
   "metadata": {
    "collapsed": false
   },
   "outputs": [
    {
     "ename": "OSError",
     "evalue": "File b'../Data/sentences.csv' does not exist",
     "output_type": "error",
     "traceback": [
      "\u001b[0;31m---------------------------------------------------------------------------\u001b[0m",
      "\u001b[0;31mOSError\u001b[0m                                   Traceback (most recent call last)",
      "\u001b[0;32m<ipython-input-1-a6a5701b78e1>\u001b[0m in \u001b[0;36m<module>\u001b[0;34m()\u001b[0m\n\u001b[1;32m      2\u001b[0m \u001b[0;32mfrom\u001b[0m \u001b[0mos\u001b[0m \u001b[0;32mimport\u001b[0m \u001b[0mchdir\u001b[0m\u001b[0;34m\u001b[0m\u001b[0m\n\u001b[1;32m      3\u001b[0m \u001b[0mchdir\u001b[0m\u001b[0;34m(\u001b[0m\u001b[0;34m\"../Compile\"\u001b[0m\u001b[0;34m)\u001b[0m\u001b[0;34m\u001b[0m\u001b[0m\n\u001b[0;32m----> 4\u001b[0;31m \u001b[0;32mimport\u001b[0m \u001b[0mData_filter\u001b[0m\u001b[0;34m.\u001b[0m\u001b[0mpy\u001b[0m\u001b[0;34m\u001b[0m\u001b[0m\n\u001b[0m",
      "\u001b[0;32m/root/Development/NTI/Source/Compile/Data_filter.py\u001b[0m in \u001b[0;36m<module>\u001b[0;34m()\u001b[0m\n\u001b[1;32m      9\u001b[0m \u001b[0;31m# In[12]:\u001b[0m\u001b[0;34m\u001b[0m\u001b[0;34m\u001b[0m\u001b[0m\n\u001b[1;32m     10\u001b[0m \u001b[0;34m\u001b[0m\u001b[0m\n\u001b[0;32m---> 11\u001b[0;31m \u001b[0mSentences\u001b[0m \u001b[0;34m=\u001b[0m \u001b[0mpd\u001b[0m\u001b[0;34m.\u001b[0m\u001b[0mDataFrame\u001b[0m\u001b[0;34m.\u001b[0m\u001b[0mfrom_csv\u001b[0m\u001b[0;34m(\u001b[0m\u001b[0;34m\"../Data/sentences.csv\"\u001b[0m\u001b[0;34m)\u001b[0m\u001b[0;34m\u001b[0m\u001b[0m\n\u001b[0m\u001b[1;32m     12\u001b[0m \u001b[0mSentences\u001b[0m \u001b[0;34m=\u001b[0m \u001b[0mSentences\u001b[0m\u001b[0;34m.\u001b[0m\u001b[0mreset_index\u001b[0m\u001b[0;34m(\u001b[0m\u001b[0;34m)\u001b[0m\u001b[0;34m\u001b[0m\u001b[0m\n\u001b[1;32m     13\u001b[0m \u001b[0;34m\u001b[0m\u001b[0m\n",
      "\u001b[0;32m/root/anaconda3/lib/python3.5/site-packages/pandas/core/frame.py\u001b[0m in \u001b[0;36mfrom_csv\u001b[0;34m(cls, path, header, sep, index_col, parse_dates, encoding, tupleize_cols, infer_datetime_format)\u001b[0m\n\u001b[1;32m   1187\u001b[0m                           \u001b[0mparse_dates\u001b[0m\u001b[0;34m=\u001b[0m\u001b[0mparse_dates\u001b[0m\u001b[0;34m,\u001b[0m \u001b[0mindex_col\u001b[0m\u001b[0;34m=\u001b[0m\u001b[0mindex_col\u001b[0m\u001b[0;34m,\u001b[0m\u001b[0;34m\u001b[0m\u001b[0m\n\u001b[1;32m   1188\u001b[0m                           \u001b[0mencoding\u001b[0m\u001b[0;34m=\u001b[0m\u001b[0mencoding\u001b[0m\u001b[0;34m,\u001b[0m \u001b[0mtupleize_cols\u001b[0m\u001b[0;34m=\u001b[0m\u001b[0mtupleize_cols\u001b[0m\u001b[0;34m,\u001b[0m\u001b[0;34m\u001b[0m\u001b[0m\n\u001b[0;32m-> 1189\u001b[0;31m                           infer_datetime_format=infer_datetime_format)\n\u001b[0m\u001b[1;32m   1190\u001b[0m \u001b[0;34m\u001b[0m\u001b[0m\n\u001b[1;32m   1191\u001b[0m     \u001b[0;32mdef\u001b[0m \u001b[0mto_sparse\u001b[0m\u001b[0;34m(\u001b[0m\u001b[0mself\u001b[0m\u001b[0;34m,\u001b[0m \u001b[0mfill_value\u001b[0m\u001b[0;34m=\u001b[0m\u001b[0;32mNone\u001b[0m\u001b[0;34m,\u001b[0m \u001b[0mkind\u001b[0m\u001b[0;34m=\u001b[0m\u001b[0;34m'block'\u001b[0m\u001b[0;34m)\u001b[0m\u001b[0;34m:\u001b[0m\u001b[0;34m\u001b[0m\u001b[0m\n",
      "\u001b[0;32m/root/anaconda3/lib/python3.5/site-packages/pandas/io/parsers.py\u001b[0m in \u001b[0;36mparser_f\u001b[0;34m(filepath_or_buffer, sep, delimiter, header, names, index_col, usecols, squeeze, prefix, mangle_dupe_cols, dtype, engine, converters, true_values, false_values, skipinitialspace, skiprows, skipfooter, nrows, na_values, keep_default_na, na_filter, verbose, skip_blank_lines, parse_dates, infer_datetime_format, keep_date_col, date_parser, dayfirst, iterator, chunksize, compression, thousands, decimal, lineterminator, quotechar, quoting, escapechar, comment, encoding, dialect, tupleize_cols, error_bad_lines, warn_bad_lines, skip_footer, doublequote, delim_whitespace, as_recarray, compact_ints, use_unsigned, low_memory, buffer_lines, memory_map, float_precision)\u001b[0m\n\u001b[1;32m    560\u001b[0m                     skip_blank_lines=skip_blank_lines)\n\u001b[1;32m    561\u001b[0m \u001b[0;34m\u001b[0m\u001b[0m\n\u001b[0;32m--> 562\u001b[0;31m         \u001b[0;32mreturn\u001b[0m \u001b[0m_read\u001b[0m\u001b[0;34m(\u001b[0m\u001b[0mfilepath_or_buffer\u001b[0m\u001b[0;34m,\u001b[0m \u001b[0mkwds\u001b[0m\u001b[0;34m)\u001b[0m\u001b[0;34m\u001b[0m\u001b[0m\n\u001b[0m\u001b[1;32m    563\u001b[0m \u001b[0;34m\u001b[0m\u001b[0m\n\u001b[1;32m    564\u001b[0m     \u001b[0mparser_f\u001b[0m\u001b[0;34m.\u001b[0m\u001b[0m__name__\u001b[0m \u001b[0;34m=\u001b[0m \u001b[0mname\u001b[0m\u001b[0;34m\u001b[0m\u001b[0m\n",
      "\u001b[0;32m/root/anaconda3/lib/python3.5/site-packages/pandas/io/parsers.py\u001b[0m in \u001b[0;36m_read\u001b[0;34m(filepath_or_buffer, kwds)\u001b[0m\n\u001b[1;32m    313\u001b[0m \u001b[0;34m\u001b[0m\u001b[0m\n\u001b[1;32m    314\u001b[0m     \u001b[0;31m# Create the parser.\u001b[0m\u001b[0;34m\u001b[0m\u001b[0;34m\u001b[0m\u001b[0m\n\u001b[0;32m--> 315\u001b[0;31m     \u001b[0mparser\u001b[0m \u001b[0;34m=\u001b[0m \u001b[0mTextFileReader\u001b[0m\u001b[0;34m(\u001b[0m\u001b[0mfilepath_or_buffer\u001b[0m\u001b[0;34m,\u001b[0m \u001b[0;34m**\u001b[0m\u001b[0mkwds\u001b[0m\u001b[0;34m)\u001b[0m\u001b[0;34m\u001b[0m\u001b[0m\n\u001b[0m\u001b[1;32m    316\u001b[0m \u001b[0;34m\u001b[0m\u001b[0m\n\u001b[1;32m    317\u001b[0m     \u001b[0;32mif\u001b[0m \u001b[0;34m(\u001b[0m\u001b[0mnrows\u001b[0m \u001b[0;32mis\u001b[0m \u001b[0;32mnot\u001b[0m \u001b[0;32mNone\u001b[0m\u001b[0;34m)\u001b[0m \u001b[0;32mand\u001b[0m \u001b[0;34m(\u001b[0m\u001b[0mchunksize\u001b[0m \u001b[0;32mis\u001b[0m \u001b[0;32mnot\u001b[0m \u001b[0;32mNone\u001b[0m\u001b[0;34m)\u001b[0m\u001b[0;34m:\u001b[0m\u001b[0;34m\u001b[0m\u001b[0m\n",
      "\u001b[0;32m/root/anaconda3/lib/python3.5/site-packages/pandas/io/parsers.py\u001b[0m in \u001b[0;36m__init__\u001b[0;34m(self, f, engine, **kwds)\u001b[0m\n\u001b[1;32m    643\u001b[0m             \u001b[0mself\u001b[0m\u001b[0;34m.\u001b[0m\u001b[0moptions\u001b[0m\u001b[0;34m[\u001b[0m\u001b[0;34m'has_index_names'\u001b[0m\u001b[0;34m]\u001b[0m \u001b[0;34m=\u001b[0m \u001b[0mkwds\u001b[0m\u001b[0;34m[\u001b[0m\u001b[0;34m'has_index_names'\u001b[0m\u001b[0;34m]\u001b[0m\u001b[0;34m\u001b[0m\u001b[0m\n\u001b[1;32m    644\u001b[0m \u001b[0;34m\u001b[0m\u001b[0m\n\u001b[0;32m--> 645\u001b[0;31m         \u001b[0mself\u001b[0m\u001b[0;34m.\u001b[0m\u001b[0m_make_engine\u001b[0m\u001b[0;34m(\u001b[0m\u001b[0mself\u001b[0m\u001b[0;34m.\u001b[0m\u001b[0mengine\u001b[0m\u001b[0;34m)\u001b[0m\u001b[0;34m\u001b[0m\u001b[0m\n\u001b[0m\u001b[1;32m    646\u001b[0m \u001b[0;34m\u001b[0m\u001b[0m\n\u001b[1;32m    647\u001b[0m     \u001b[0;32mdef\u001b[0m \u001b[0mclose\u001b[0m\u001b[0;34m(\u001b[0m\u001b[0mself\u001b[0m\u001b[0;34m)\u001b[0m\u001b[0;34m:\u001b[0m\u001b[0;34m\u001b[0m\u001b[0m\n",
      "\u001b[0;32m/root/anaconda3/lib/python3.5/site-packages/pandas/io/parsers.py\u001b[0m in \u001b[0;36m_make_engine\u001b[0;34m(self, engine)\u001b[0m\n\u001b[1;32m    797\u001b[0m     \u001b[0;32mdef\u001b[0m \u001b[0m_make_engine\u001b[0m\u001b[0;34m(\u001b[0m\u001b[0mself\u001b[0m\u001b[0;34m,\u001b[0m \u001b[0mengine\u001b[0m\u001b[0;34m=\u001b[0m\u001b[0;34m'c'\u001b[0m\u001b[0;34m)\u001b[0m\u001b[0;34m:\u001b[0m\u001b[0;34m\u001b[0m\u001b[0m\n\u001b[1;32m    798\u001b[0m         \u001b[0;32mif\u001b[0m \u001b[0mengine\u001b[0m \u001b[0;34m==\u001b[0m \u001b[0;34m'c'\u001b[0m\u001b[0;34m:\u001b[0m\u001b[0;34m\u001b[0m\u001b[0m\n\u001b[0;32m--> 799\u001b[0;31m             \u001b[0mself\u001b[0m\u001b[0;34m.\u001b[0m\u001b[0m_engine\u001b[0m \u001b[0;34m=\u001b[0m \u001b[0mCParserWrapper\u001b[0m\u001b[0;34m(\u001b[0m\u001b[0mself\u001b[0m\u001b[0;34m.\u001b[0m\u001b[0mf\u001b[0m\u001b[0;34m,\u001b[0m \u001b[0;34m**\u001b[0m\u001b[0mself\u001b[0m\u001b[0;34m.\u001b[0m\u001b[0moptions\u001b[0m\u001b[0;34m)\u001b[0m\u001b[0;34m\u001b[0m\u001b[0m\n\u001b[0m\u001b[1;32m    800\u001b[0m         \u001b[0;32melse\u001b[0m\u001b[0;34m:\u001b[0m\u001b[0;34m\u001b[0m\u001b[0m\n\u001b[1;32m    801\u001b[0m             \u001b[0;32mif\u001b[0m \u001b[0mengine\u001b[0m \u001b[0;34m==\u001b[0m \u001b[0;34m'python'\u001b[0m\u001b[0;34m:\u001b[0m\u001b[0;34m\u001b[0m\u001b[0m\n",
      "\u001b[0;32m/root/anaconda3/lib/python3.5/site-packages/pandas/io/parsers.py\u001b[0m in \u001b[0;36m__init__\u001b[0;34m(self, src, **kwds)\u001b[0m\n\u001b[1;32m   1211\u001b[0m         \u001b[0mkwds\u001b[0m\u001b[0;34m[\u001b[0m\u001b[0;34m'allow_leading_cols'\u001b[0m\u001b[0;34m]\u001b[0m \u001b[0;34m=\u001b[0m \u001b[0mself\u001b[0m\u001b[0;34m.\u001b[0m\u001b[0mindex_col\u001b[0m \u001b[0;32mis\u001b[0m \u001b[0;32mnot\u001b[0m \u001b[0;32mFalse\u001b[0m\u001b[0;34m\u001b[0m\u001b[0m\n\u001b[1;32m   1212\u001b[0m \u001b[0;34m\u001b[0m\u001b[0m\n\u001b[0;32m-> 1213\u001b[0;31m         \u001b[0mself\u001b[0m\u001b[0;34m.\u001b[0m\u001b[0m_reader\u001b[0m \u001b[0;34m=\u001b[0m \u001b[0m_parser\u001b[0m\u001b[0;34m.\u001b[0m\u001b[0mTextReader\u001b[0m\u001b[0;34m(\u001b[0m\u001b[0msrc\u001b[0m\u001b[0;34m,\u001b[0m \u001b[0;34m**\u001b[0m\u001b[0mkwds\u001b[0m\u001b[0;34m)\u001b[0m\u001b[0;34m\u001b[0m\u001b[0m\n\u001b[0m\u001b[1;32m   1214\u001b[0m \u001b[0;34m\u001b[0m\u001b[0m\n\u001b[1;32m   1215\u001b[0m         \u001b[0;31m# XXX\u001b[0m\u001b[0;34m\u001b[0m\u001b[0;34m\u001b[0m\u001b[0m\n",
      "\u001b[0;32mpandas/parser.pyx\u001b[0m in \u001b[0;36mpandas.parser.TextReader.__cinit__ (pandas/parser.c:3427)\u001b[0;34m()\u001b[0m\n",
      "\u001b[0;32mpandas/parser.pyx\u001b[0m in \u001b[0;36mpandas.parser.TextReader._setup_parser_source (pandas/parser.c:6861)\u001b[0;34m()\u001b[0m\n",
      "\u001b[0;31mOSError\u001b[0m: File b'../Data/sentences.csv' does not exist"
     ]
    }
   ],
   "source": [
    "import pandas as pd\n",
    "from os import chdir\n",
    "chdir(\"../Compile\")\n",
    "import Data_filter.py"
   ]
  },
  {
   "cell_type": "code",
   "execution_count": 12,
   "metadata": {
    "collapsed": false
   },
   "outputs": [],
   "source": [
    "Sentences = pd.DataFrame.from_csv(\"../Data/sentences.csv\")\n",
    "Sentences = Sentences.reset_index()"
   ]
  },
  {
   "cell_type": "code",
   "execution_count": 63,
   "metadata": {
    "collapsed": true
   },
   "outputs": [],
   "source": [
    "def DeletePunctuation(Sentence):\n",
    "    Sentence = Sentence.replace(\",\", \" \")\n",
    "    Sentence = Sentence.replace(\";\", \" \")\n",
    "    Sentence = Sentence.replace(\"(\", \" \")\n",
    "    Sentence = Sentence.replace(\")\", \" \")\n",
    "    Sentence = Sentence.replace(\"{\", \" \")\n",
    "    Sentence = Sentence.replace(\"?\", \" \")\n",
    "    Sentence = Sentence.replace(\".\", \" \")\n",
    "    Sentence = Sentence.replace(\"!\", \" \")\n",
    "    Sentence = Sentence.replace(\"}\", \" \")\n",
    "    Sentence = Sentence.replace(\"\\\"\", \" \")\n",
    "    Sentence = Sentence.replace(\"'\", \" \")\n",
    "    Sentence = Sentence.replace(\"=\", \" \")\n",
    "    Sentence = Sentence.replace(\"+\", \" \")\n",
    "    Sentence = Sentence.replace(\"–\", \" \")\n",
    "    Sentence = Sentence.replace(\"»\", \" \")\n",
    "    Sentence = Sentence.replace(\"«\", \" \")\n",
    "    Sentence = Sentence.replace(\":\", \" \")\n",
    "    Sentence = Sentence.replace(\"…\", \" \")\n",
    "    Sentence = Sentence.replace(\"...\", \" \")\n",
    "    return Sentence"
   ]
  },
  {
   "cell_type": "code",
   "execution_count": 77,
   "metadata": {
    "collapsed": false
   },
   "outputs": [],
   "source": [
    "def DeleteArticles(Array):\n",
    "    Articles = [\"без\", \"безо\", \"аль\", \"бы\", \"же\", \"но\", \"не\", \"то\", \"так\", \"а\", \"ах\",\"близ\", \"в\", \"во\", \"вместо\", \"вне\", \"для\", \"до\", \"за\", \"из\", \"изо\", \"из-за\", \"из-под\", \"к\", \"ко\", \"кроме\", \"между\", \"меж\", \"на\", \"над\", \"надо\", \"о\", \"об\", \"обо\", \"от\", \"ото\", \"перед\", \"передо\", \"пo\", \"под\", \"при\", \"про\", \"ради\", \"с\", \"со\", \"сквозь\", \"среди\", \"у\", \"через\", \"чрез\", \"что\", \"и\"]\n",
    "    for aritcle in Articles:\n",
    "        Result = []\n",
    "        for element in Array:\n",
    "            if element not in Articles:\n",
    "                Result.append(element)\n",
    "    return Result"
   ]
  },
  {
   "cell_type": "code",
   "execution_count": 78,
   "metadata": {
    "collapsed": true
   },
   "outputs": [],
   "source": [
    "def DeleteNumbers(Array):\n",
    "    Result = []\n",
    "    for element in Array:\n",
    "        if element.isdigit() is False:\n",
    "            Result.append(element)\n",
    "    return Result"
   ]
  },
  {
   "cell_type": "code",
   "execution_count": 79,
   "metadata": {
    "collapsed": true
   },
   "outputs": [],
   "source": [
    "def CountArticles(Sentence):\n",
    "    Result = {\"!\": 0, \"?\": 0, \".\":0}\n",
    "    Result[\"!\"] = Sentence.count(\"!\")\n",
    "    Result[\".\"] = Sentence.count(\".\")\n",
    "    Result[\"?\"] = Sentence.count(\"?\")\n",
    "    return Result"
   ]
  },
  {
   "cell_type": "code",
   "execution_count": 82,
   "metadata": {
    "collapsed": false
   },
   "outputs": [],
   "source": [
    "def ParseSentence(Sentence):\n",
    "    Sentence = Sentence.lower()\n",
    "    Articles = CountArticles(Sentence)\n",
    "    Sentence = DeletePunctuation(Sentence)\n",
    "    Sentence = Sentence.split()\n",
    "    Sentence = DeleteArticles(Sentence)\n",
    "    Sentence = DeleteNumbers(Sentence)\n",
    "    Sentence.append(Articles)\n",
    "    return Sentence"
   ]
  },
  {
   "cell_type": "code",
   "execution_count": 81,
   "metadata": {
    "collapsed": false
   },
   "outputs": [
    {
     "data": {
      "text/plain": [
       "0              [﻿, ты, приходи, {'?': 0, '!': 1, '.': 0}]\n",
       "1       [третий, раз, попросил, сениста, третий, раз, ...\n",
       "2       [еще, прийти, конечно, прийду, {'?': 0, '!': 0...\n",
       "3       [снова, они, замолчали, {'?': 0, '!': 0, '.': 1}]\n",
       "4       [сениста, лежал, спине, подбородка, укрытый, с...\n",
       "5       [сазонке, хотелось, уйти, он, знал, как, это, ...\n",
       "6       [он, еще, посидел, если, было, чем, говорить, ...\n",
       "7       [его, все, время, тянуло, называть, сенисту, п...\n",
       "8       [еще, двух, недель, прошло, тех, пор, как, он,...\n",
       "9       [сазонка, решительно, начал, сползать, стула, ...\n",
       "10                      [болит, {'?': 1, '!': 0, '.': 0}]\n",
       "11      [сениста, утвердительно, качнул, головой, тихо...\n",
       "12         [он, бранить, будет, {'?': 0, '!': 0, '.': 1}]\n",
       "13      [это, верно, обрадовался, сазонка, предлогу, {...\n",
       "14      [он, приказывал, ты, говорит, поскорее, {'?': ...\n",
       "15      [отвезешь, минутой, назад, {'?': 0, '!': 0, '....\n",
       "16        [чтобы, водки, ни-ни, {'?': 0, '!': 0, '.': 1}]\n",
       "17                  [вот, черт, {'?': 0, '!': 1, '.': 0}]\n",
       "18      [вместе, сознанием, он, может, теперь, уйти, к...\n",
       "19      [жалости, призывала, вся, необычная, обстановк...\n",
       "20      [уже, избегая, просительного, взгляда, сазонка...\n",
       "21                      [приду, {'?': 0, '!': 0, '.': 1}]\n",
       "22      [как, ослобонюсь, тебе, {'?': 0, '!': 0, '.': 1}]\n",
       "23            [разве, мы, люди, {'?': 1, '!': 0, '.': 0}]\n",
       "24                    [господи, {'?': 0, '!': 1, '.': 0}]\n",
       "25      [тоже, нас, понятие, есть, {'?': 0, '!': 0, '....\n",
       "26                      [милый, {'?': 0, '!': 1, '.': 0}]\n",
       "27           [веришь, мне, нет, {'?': 1, '!': 0, '.': 0}]\n",
       "28      [улыбкой, почерневших, запекшихся, губах, сени...\n",
       "29                        [вот, {'?': 0, '!': 1, '.': 0}]\n",
       "                              ...                        \n",
       "2967    [﻿утром, белел, лужах, сквозной, ледок, теперь...\n",
       "2968    [ветер, вскрышной, тугой, сыровато-теплый, {'?...\n",
       "2969    [потянет, рванет, порой, бойкий, весенний, вет...\n",
       "2970    [прислушаешься, шумит-смеется, {'?': 0, '!': 1...\n",
       "2971    [небо, ветре, густое-голубое, золотистыми, пру...\n",
       "2972          [тепло, свежесть, {'?': 0, '!': 0, '.': 1}]\n",
       "2973    [свежести, этой, струйки, тающего, снега, поте...\n",
       "2974    [голубями, как, будто, пахнет, томною, воркотн...\n",
       "2975    [весна, она, засматривает, глаза, разрумяненны...\n",
       "2976    [все, ты, федя, съел, медведя, сегодня, совсем...\n",
       "2977    [сияющие, новые, калоши, кремовый, шелковистый...\n",
       "2978    [шарфик, делает, его, очень, интересным, {'?':...\n",
       "2979    [новеньком, портмоне, рубль, восемьдесят, пять...\n",
       "2980    [самое, главное, ровно, по, спасской, башне, в...\n",
       "2981       [дивное, какое, имя, {'?': 0, '!': 1, '.': 2}]\n",
       "2982    [женщины, гораздо, находчивее, мужчин, взволно...\n",
       "2983    [федя, толпе, его, оглушает, гоготом, писком, ...\n",
       "2984    [сверкает, плещет, ветре, пестрит, колет, бума...\n",
       "2985    [кружит, глаза, уши, летающими, колбасами, виз...\n",
       "2986    [глазеют-пучатся, веселые, купола, его, сияют,...\n",
       "2987    [связки, шаров, веселых, вытягиваются, нему, п...\n",
       "2988    [строгие, купола, соборов, зубчатых, кремлевск...\n",
       "2989    [взглядывают, них, торга, вспоминают, пасха, д...\n",
       "2990    [спасская, выбивает, переливом, третью, четвер...\n",
       "2991    [пора, вербам, спохватывается, федя, него, зам...\n",
       "2992    [он, представляет, себе, тоненькую, фигуру, ни...\n",
       "2993    [он, видит, даже, как, встряхивает, она, голов...\n",
       "2994    [пышные, небывающие, розы, протягивают, ему, б...\n",
       "2995    [колышащиеся, связки, шаров, гибко, выгибаются...\n",
       "2996    [животрепя-щие, бабочки, {'?': 0, '!': 1, '.':...\n",
       "Name: Предложение, dtype: object"
      ]
     },
     "execution_count": 81,
     "metadata": {},
     "output_type": "execute_result"
    }
   ],
   "source": [
    "Sentences[\"Предложение\"].apply(ParseSentence)"
   ]
  },
  {
   "cell_type": "code",
   "execution_count": null,
   "metadata": {
    "collapsed": true
   },
   "outputs": [],
   "source": []
  }
 ],
 "metadata": {
  "anaconda-cloud": {},
  "kernelspec": {
   "display_name": "Python [conda root]",
   "language": "python",
   "name": "conda-root-py"
  },
  "language_info": {
   "codemirror_mode": {
    "name": "ipython",
    "version": 3
   },
   "file_extension": ".py",
   "mimetype": "text/x-python",
   "name": "python",
   "nbconvert_exporter": "python",
   "pygments_lexer": "ipython3",
   "version": "3.5.2"
  }
 },
 "nbformat": 4,
 "nbformat_minor": 1
}
