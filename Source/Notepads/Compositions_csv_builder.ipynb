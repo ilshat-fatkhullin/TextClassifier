{
 "cells": [
  {
   "cell_type": "code",
   "execution_count": 110,
   "metadata": {
    "collapsed": false
   },
   "outputs": [],
   "source": [
    "import pandas as pd"
   ]
  },
  {
   "cell_type": "code",
   "execution_count": 111,
   "metadata": {
    "collapsed": true
   },
   "outputs": [],
   "source": [
    "from os import chdir"
   ]
  },
  {
   "cell_type": "code",
   "execution_count": 112,
   "metadata": {
    "collapsed": true
   },
   "outputs": [],
   "source": [
    "chdir('../Compile')"
   ]
  },
  {
   "cell_type": "code",
   "execution_count": 113,
   "metadata": {
    "collapsed": true
   },
   "outputs": [],
   "source": [
    "import Data_filter"
   ]
  },
  {
   "cell_type": "code",
   "execution_count": 114,
   "metadata": {
    "collapsed": false
   },
   "outputs": [],
   "source": [
    "words_df = pd.read_excel('../../Data/words_dictionary.xlsx')\n",
    "words_df.columns = ['word', 'style']"
   ]
  },
  {
   "cell_type": "code",
   "execution_count": 115,
   "metadata": {
    "collapsed": false
   },
   "outputs": [
    {
     "data": {
      "text/html": [
       "<div>\n",
       "<table border=\"1\" class=\"dataframe\">\n",
       "  <thead>\n",
       "    <tr style=\"text-align: right;\">\n",
       "      <th></th>\n",
       "      <th>word</th>\n",
       "      <th>style</th>\n",
       "    </tr>\n",
       "  </thead>\n",
       "  <tbody>\n",
       "    <tr>\n",
       "      <th>0</th>\n",
       "      <td>абажур</td>\n",
       "      <td>0</td>\n",
       "    </tr>\n",
       "    <tr>\n",
       "      <th>1</th>\n",
       "      <td>абажур</td>\n",
       "      <td>-1</td>\n",
       "    </tr>\n",
       "    <tr>\n",
       "      <th>2</th>\n",
       "      <td>абориген</td>\n",
       "      <td>-1</td>\n",
       "    </tr>\n",
       "    <tr>\n",
       "      <th>3</th>\n",
       "      <td>абориген</td>\n",
       "      <td>-1</td>\n",
       "    </tr>\n",
       "    <tr>\n",
       "      <th>4</th>\n",
       "      <td>абориген</td>\n",
       "      <td>0</td>\n",
       "    </tr>\n",
       "  </tbody>\n",
       "</table>\n",
       "</div>"
      ],
      "text/plain": [
       "       word  style\n",
       "0    абажур      0\n",
       "1    абажур     -1\n",
       "2  абориген     -1\n",
       "3  абориген     -1\n",
       "4  абориген      0"
      ]
     },
     "execution_count": 115,
     "metadata": {},
     "output_type": "execute_result"
    }
   ],
   "source": [
    "words_df.head()"
   ]
  },
  {
   "cell_type": "code",
   "execution_count": 116,
   "metadata": {
    "collapsed": false
   },
   "outputs": [],
   "source": [
    "authors_df = pd.DataFrame.from_csv('../../Data/authors.csv')"
   ]
  },
  {
   "cell_type": "code",
   "execution_count": 117,
   "metadata": {
    "collapsed": false
   },
   "outputs": [
    {
     "data": {
      "text/html": [
       "<div>\n",
       "<table border=\"1\" class=\"dataframe\">\n",
       "  <thead>\n",
       "    <tr style=\"text-align: right;\">\n",
       "      <th></th>\n",
       "      <th>Фамилия</th>\n",
       "      <th>Имя</th>\n",
       "      <th>Отчество</th>\n",
       "    </tr>\n",
       "    <tr>\n",
       "      <th>Номер автора</th>\n",
       "      <th></th>\n",
       "      <th></th>\n",
       "      <th></th>\n",
       "    </tr>\n",
       "  </thead>\n",
       "  <tbody>\n",
       "    <tr>\n",
       "      <th>0</th>\n",
       "      <td>Андреев</td>\n",
       "      <td>Леонид</td>\n",
       "      <td>Николаевич</td>\n",
       "    </tr>\n",
       "    <tr>\n",
       "      <th>1</th>\n",
       "      <td>Арцыбашев</td>\n",
       "      <td>Михаил</td>\n",
       "      <td>Петрович</td>\n",
       "    </tr>\n",
       "    <tr>\n",
       "      <th>2</th>\n",
       "      <td>Бунин</td>\n",
       "      <td>Иван</td>\n",
       "      <td>Алексеевич</td>\n",
       "    </tr>\n",
       "    <tr>\n",
       "      <th>3</th>\n",
       "      <td>Герцен</td>\n",
       "      <td>Александр</td>\n",
       "      <td>Иванович</td>\n",
       "    </tr>\n",
       "    <tr>\n",
       "      <th>4</th>\n",
       "      <td>Гоголь</td>\n",
       "      <td>Николай</td>\n",
       "      <td>Васильевич</td>\n",
       "    </tr>\n",
       "  </tbody>\n",
       "</table>\n",
       "</div>"
      ],
      "text/plain": [
       "                Фамилия        Имя    Отчество\n",
       "Номер автора                                  \n",
       "0               Андреев     Леонид  Николаевич\n",
       "1             Арцыбашев     Михаил    Петрович\n",
       "2                 Бунин       Иван  Алексеевич\n",
       "3                Герцен  Александр    Иванович\n",
       "4                Гоголь    Николай  Васильевич"
      ]
     },
     "execution_count": 117,
     "metadata": {},
     "output_type": "execute_result"
    }
   ],
   "source": [
    "authors_df.head()"
   ]
  },
  {
   "cell_type": "code",
   "execution_count": 118,
   "metadata": {
    "collapsed": false
   },
   "outputs": [
    {
     "name": "stdout",
     "output_type": "stream",
     "text": [
      "0 Андреев Леонид Николаевич\n",
      "1 Арцыбашев Михаил Петрович\n",
      "2 Бунин Иван Алексеевич\n",
      "3 Герцен Александр Иванович\n",
      "4 Гоголь Николай Васильевич\n",
      "5 Гончаров Иван Александрович\n",
      "6 Горький Максим Максимович\n",
      "7 Грин Александр Степанович\n",
      "8 Достоевский Федор Михайлович\n",
      "9 Замятин Евгений Иванович\n",
      "10 Короленко Владимир Галактионович\n",
      "11 Куприн Александр Иванович\n",
      "12 Лесков Николай Семенович\n",
      "13 Пушкин Александр Сергеевич\n",
      "14 Салтыков-Щедрин Михаил Евграфович\n",
      "15 Сологуб Федор Кузьмич\n",
      "16 Толстой Лев Николаевич\n",
      "17 Тургенев Иван Сергеевич\n",
      "18 Чехов Антон Павлович\n",
      "19 Шмелев Иван Сергеевич\n"
     ]
    }
   ],
   "source": [
    "num = 0\n",
    "for i in authors_df.values:\n",
    "    print(str(num) + ' ' + i[0] + ' ' + i[1] + ' ' + i[2])\n",
    "    num+=1"
   ]
  },
  {
   "cell_type": "code",
   "execution_count": 119,
   "metadata": {
    "collapsed": false
   },
   "outputs": [],
   "source": [
    "authors_composition_df = pd.DataFrame(columns = ['compositions'])"
   ]
  },
  {
   "cell_type": "code",
   "execution_count": 120,
   "metadata": {
    "collapsed": false
   },
   "outputs": [
    {
     "data": {
      "text/html": [
       "<div>\n",
       "<table border=\"1\" class=\"dataframe\">\n",
       "  <thead>\n",
       "    <tr style=\"text-align: right;\">\n",
       "      <th></th>\n",
       "      <th>compositions</th>\n",
       "    </tr>\n",
       "  </thead>\n",
       "  <tbody>\n",
       "  </tbody>\n",
       "</table>\n",
       "</div>"
      ],
      "text/plain": [
       "Empty DataFrame\n",
       "Columns: [compositions]\n",
       "Index: []"
      ]
     },
     "execution_count": 120,
     "metadata": {},
     "output_type": "execute_result"
    }
   ],
   "source": [
    "authors_composition_df.head()"
   ]
  },
  {
   "cell_type": "code",
   "execution_count": 121,
   "metadata": {
    "collapsed": false
   },
   "outputs": [],
   "source": [
    "for i in range(len(authors_df)):\n",
    "    compositions = []\n",
    "    for j in open('../../Data/authors_compositions/' + str(i) + '.txt', 'r', encoding='utf-8').readlines():\n",
    "        compositions.extend(Data_filter.ParseSentence(j))\n",
    "    appending_df = pd.DataFrame(index = [i], data = [[compositions]], columns = ['compositions'])\n",
    "    authors_composition_df = authors_composition_df.append(appending_df)\n",
    "authors_composition_df.index.name = 'authors'"
   ]
  },
  {
   "cell_type": "code",
   "execution_count": 124,
   "metadata": {
    "collapsed": false
   },
   "outputs": [
    {
     "data": {
      "text/html": [
       "<div>\n",
       "<table border=\"1\" class=\"dataframe\">\n",
       "  <thead>\n",
       "    <tr style=\"text-align: right;\">\n",
       "      <th></th>\n",
       "      <th>compositions</th>\n",
       "    </tr>\n",
       "    <tr>\n",
       "      <th>authors</th>\n",
       "      <th></th>\n",
       "    </tr>\n",
       "  </thead>\n",
       "  <tbody>\n",
       "    <tr>\n",
       "      <th>0</th>\n",
       "      <td>[всей, жизнью, василия, фивейского, тяготел, с...</td>\n",
       "    </tr>\n",
       "    <tr>\n",
       "      <th>1</th>\n",
       "      <td>[самое, важное, жизни, время, когда, влиянием,...</td>\n",
       "    </tr>\n",
       "    <tr>\n",
       "      <th>2</th>\n",
       "      <td>[кладбище, свежей, глиняной, насыпью, стоит, н...</td>\n",
       "    </tr>\n",
       "    <tr>\n",
       "      <th>3</th>\n",
       "      <td>[{'.': 0, '?': 0, '!': 0}, {'.': 0, '?': 0, '!...</td>\n",
       "    </tr>\n",
       "    <tr>\n",
       "      <th>4</th>\n",
       "      <td>[{'.': 0, '?': 0, '!': 0}, замечания, господ, ...</td>\n",
       "    </tr>\n",
       "  </tbody>\n",
       "</table>\n",
       "</div>"
      ],
      "text/plain": [
       "                                              compositions\n",
       "authors                                                   \n",
       "0        [всей, жизнью, василия, фивейского, тяготел, с...\n",
       "1        [самое, важное, жизни, время, когда, влиянием,...\n",
       "2        [кладбище, свежей, глиняной, насыпью, стоит, н...\n",
       "3        [{'.': 0, '?': 0, '!': 0}, {'.': 0, '?': 0, '!...\n",
       "4        [{'.': 0, '?': 0, '!': 0}, замечания, господ, ..."
      ]
     },
     "execution_count": 124,
     "metadata": {},
     "output_type": "execute_result"
    }
   ],
   "source": [
    "authors_composition_df.head()"
   ]
  },
  {
   "cell_type": "code",
   "execution_count": 125,
   "metadata": {
    "collapsed": true
   },
   "outputs": [],
   "source": [
    "authors_composition_df.to_csv('../../Data/authors_compositions.csv')"
   ]
  },
  {
   "cell_type": "code",
   "execution_count": null,
   "metadata": {
    "collapsed": true
   },
   "outputs": [],
   "source": []
  }
 ],
 "metadata": {
  "anaconda-cloud": {},
  "kernelspec": {
   "display_name": "Python [conda root]",
   "language": "python",
   "name": "conda-root-py"
  },
  "language_info": {
   "codemirror_mode": {
    "name": "ipython",
    "version": 3
   },
   "file_extension": ".py",
   "mimetype": "text/x-python",
   "name": "python",
   "nbconvert_exporter": "python",
   "pygments_lexer": "ipython3",
   "version": "3.5.2"
  }
 },
 "nbformat": 4,
 "nbformat_minor": 1
}
